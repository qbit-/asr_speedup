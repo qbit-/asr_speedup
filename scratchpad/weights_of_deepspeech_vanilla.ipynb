{
 "cells": [
  {
   "cell_type": "code",
   "execution_count": 2,
   "metadata": {
    "colab": {},
    "colab_type": "code",
    "id": "DwGzSEo5Slo2"
   },
   "outputs": [],
   "source": [
    "import tensorflow as tf\n",
    "import numpy as np\n",
    "import pickle\n",
    "import t3f"
   ]
  },
  {
   "cell_type": "code",
   "execution_count": 3,
   "metadata": {},
   "outputs": [],
   "source": [
    "with open('weights_of_deepspeech_vanilla.p', 'rb') as fp:\n",
    "    weights = pickle.load(fp)"
   ]
  },
  {
   "cell_type": "code",
   "execution_count": 10,
   "metadata": {
    "colab": {},
    "colab_type": "code",
    "id": "QvTw7AfH2JMe"
   },
   "outputs": [
    {
     "name": "stdout",
     "output_type": "stream",
     "text": [
      "layer_1/weights  =>  (494, 2048)\n",
      "layer_2/weights  =>  (2048, 2048)\n",
      "layer_3/weights  =>  (2048, 2048)\n",
      "layer_5/weights  =>  (2048, 2048)\n",
      "layer_6/weights  =>  (2048, 29)\n"
     ]
    }
   ],
   "source": [
    "for key in weights.keys():\n",
    "    print(key, ' => ', weights[key].shape)"
   ]
  },
  {
   "cell_type": "code",
   "execution_count": 40,
   "metadata": {},
   "outputs": [],
   "source": [
    "def get_error(tt_input_shape, tt_output_shape, tt_rank, weight):\n",
    "    weight_input_shape, weight_output_shape = weight.shape\n",
    "    assert(np.prod(tt_input_shape) == weight_input_shape)\n",
    "    assert(np.prod(tt_output_shape) == weight_output_shape)\n",
    "    assert(len(tt_input_shape) == len(tt_output_shape))\n",
    "\n",
    "    # obtain cores\n",
    "    tt_weights = t3f.to_tt_matrix(weight, shape=[tt_input_shape, tt_output_shape],\n",
    "                                   max_tt_rank=tt_rank)\n",
    "    \n",
    "    with tf.Session() as sess:\n",
    "        reconstructed_tensor = sess.run(t3f.full(tt_weights))\n",
    "\n",
    "    error = np.linalg.norm(reconstructed_tensor - weight)\n",
    "    initial_norm = np.linalg.norm(weight)\n",
    "    #with tf.Session() as sess:\n",
    "    #    cores = sess.run(tt_weights.tt_cores)\n",
    "    #    ranks = sess.run(tt_ranks)\n",
    "    #    reconstructed_matrix = t3f.full(tt_weights)\n",
    "    return error, error / initial_norm"
   ]
  },
  {
   "cell_type": "code",
   "execution_count": 41,
   "metadata": {},
   "outputs": [
    {
     "name": "stdout",
     "output_type": "stream",
     "text": [
      "Reconstruction error: 94.52107238769531, 0.980887234210968\n"
     ]
    }
   ],
   "source": [
    "error, rel_error = get_error([8, 8, 8, 4], [8, 8, 8, 4], 16, weights['layer_2/weights'])\n",
    "print(f'Reconstruction error: {error}, {rel_error}')"
   ]
  }
 ],
 "metadata": {
  "colab": {
   "collapsed_sections": [],
   "name": "model_modification.ipynb",
   "provenance": []
  },
  "kernelspec": {
   "display_name": "Python 3",
   "language": "python",
   "name": "python3"
  },
  "language_info": {
   "codemirror_mode": {
    "name": "ipython",
    "version": 3
   },
   "file_extension": ".py",
   "mimetype": "text/x-python",
   "name": "python",
   "nbconvert_exporter": "python",
   "pygments_lexer": "ipython3",
   "version": "3.7.6"
  }
 },
 "nbformat": 4,
 "nbformat_minor": 1
}
